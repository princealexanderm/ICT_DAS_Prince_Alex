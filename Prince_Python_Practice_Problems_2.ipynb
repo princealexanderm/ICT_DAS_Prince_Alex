{
  "nbformat": 4,
  "nbformat_minor": 0,
  "metadata": {
    "colab": {
      "provenance": [],
      "authorship_tag": "ABX9TyOWE28HaOapdHfteK2uEQ3w",
      "include_colab_link": true
    },
    "kernelspec": {
      "name": "python3",
      "display_name": "Python 3"
    },
    "language_info": {
      "name": "python"
    }
  },
  "cells": [
    {
      "cell_type": "markdown",
      "metadata": {
        "id": "view-in-github",
        "colab_type": "text"
      },
      "source": [
        "<a href=\"https://colab.research.google.com/github/princealexanderm/ICT_DAS_Prince_Alex/blob/main/Prince_Python_Practice_Problems_2.ipynb\" target=\"_parent\"><img src=\"https://colab.research.google.com/assets/colab-badge.svg\" alt=\"Open In Colab\"/></a>"
      ]
    },
    {
      "cell_type": "markdown",
      "source": [
        "**1.** Write a Python program to accept a string value from the user and display the count of each character in that string.\n",
        "\n",
        " Sample input: Enter a string value: assembly\n",
        "\n",
        " Sample output: a=1, s=2, e=1, m=1, b=1, l=1, y=1"
      ],
      "metadata": {
        "id": "10k_d0k2hmqt"
      }
    },
    {
      "cell_type": "code",
      "source": [
        "x=input('Enter a string value:')\n",
        "for i in x:\n",
        "  n=x.count(i)\n",
        "  print(i,'=',n)"
      ],
      "metadata": {
        "colab": {
          "base_uri": "https://localhost:8080/"
        },
        "id": "dcNJxIVBhmBt",
        "outputId": "464c9d3e-2244-4589-cd87-01c7612ae5e7"
      },
      "execution_count": null,
      "outputs": [
        {
          "output_type": "stream",
          "name": "stdout",
          "text": [
            "Enter a string value:assembly\n",
            "a = 1\n",
            "s = 2\n",
            "s = 2\n",
            "e = 1\n",
            "m = 1\n",
            "b = 1\n",
            "l = 1\n",
            "y = 1\n"
          ]
        }
      ]
    },
    {
      "cell_type": "markdown",
      "source": [
        "**2.** Write a Python program to find the maximum of three numbers\n",
        "\n",
        "Sample input: 34,12,7\n",
        "\n",
        "Sample output: 34"
      ],
      "metadata": {
        "id": "I8l5GikKkIqe"
      }
    },
    {
      "cell_type": "code",
      "execution_count": null,
      "metadata": {
        "colab": {
          "base_uri": "https://localhost:8080/"
        },
        "id": "MOgf9bu2hb-B",
        "outputId": "5bdce051-69cd-437b-8f19-f9ecf3883745"
      },
      "outputs": [
        {
          "output_type": "stream",
          "name": "stdout",
          "text": [
            "Sample input34,12,7\n",
            "sample output 34\n"
          ]
        }
      ],
      "source": [
        "a,b,c=eval(input('Sample input'))\n",
        "if a>b and a>c:\n",
        "  print('sample output',a)\n",
        "elif b>a and b>c:\n",
        "  print('sample output',b)\n",
        "else:\n",
        "  print('sample output',c)"
      ]
    },
    {
      "cell_type": "markdown",
      "source": [
        "**3.** Write a Python function called exponent(base,exp) that returns an integer value of base raises to the power of exp. Sample input:\n",
        "\n",
        "Enter the base: 2\n",
        "\n",
        "Enter the exponent: 3\n",
        "\n",
        "Sample output: 8"
      ],
      "metadata": {
        "id": "3bklxtKUkYQM"
      }
    },
    {
      "cell_type": "code",
      "source": [
        "def exponent(base,exp):\n",
        "  base=int(input('Enter the base:'))\n",
        "  expo=int(input('Enter the exponent:'))\n",
        "  print('Sample output:',base**expo)"
      ],
      "metadata": {
        "id": "RjHwPzfwkNDH"
      },
      "execution_count": null,
      "outputs": []
    },
    {
      "cell_type": "code",
      "source": [
        "exponent(2,3)"
      ],
      "metadata": {
        "colab": {
          "base_uri": "https://localhost:8080/"
        },
        "id": "w8AYL4bIkb05",
        "outputId": "5c70eecc-4b40-4ac8-ef12-6951eb7f01d9"
      },
      "execution_count": null,
      "outputs": [
        {
          "output_type": "stream",
          "name": "stdout",
          "text": [
            "Enter the base:2\n",
            "Enter the exponent:3\n",
            "Sample output: 8\n"
          ]
        }
      ]
    },
    {
      "cell_type": "markdown",
      "source": [
        "**4.** Write a Python function that takes a positive integer and returns the sum of the cube of all the positive integers smaller than the specified number.\n",
        "\n",
        "Sample input: 4\n",
        "\n",
        "Sample output: 36."
      ],
      "metadata": {
        "id": "98zX_rJCkkEZ"
      }
    },
    {
      "cell_type": "code",
      "source": [
        "n=int(input('Sample input:'))\n",
        "cube=0\n",
        "for i in range(n):\n",
        "  cube=cube+i**3\n",
        "print('Sample output:',cube)"
      ],
      "metadata": {
        "colab": {
          "base_uri": "https://localhost:8080/"
        },
        "id": "UttEmzN1kd6P",
        "outputId": "9a12348b-1b21-4147-ff88-0113e20f3b19"
      },
      "execution_count": null,
      "outputs": [
        {
          "output_type": "stream",
          "name": "stdout",
          "text": [
            "Sample input:4\n",
            "Sample output: 36\n"
          ]
        }
      ]
    },
    {
      "cell_type": "markdown",
      "source": [
        "**5.** Write a Python program which iterates from 1 to 10. For multiples of 2, print “Fizz” instead of the number and for the multiples of 5, print “Buzz”. For numbers which are multiples of both 2 and 5, print “FizzBuzz”.\n",
        "\n",
        "Sample input: numbers from 1 to 10\n",
        "\n",
        "Sample output: 1 Fizz\n",
        "\n",
        "3 Fizz Buzz Fizz\n",
        "\n",
        "7 Fizz\n",
        "\n",
        "9 FizzBuzz"
      ],
      "metadata": {
        "id": "nm23PM1Mlc3y"
      }
    },
    {
      "cell_type": "code",
      "source": [
        "for i in range(1,11):\n",
        "  if i%2==0 and i%5==0:\n",
        "    print('FizzBuzz')\n",
        "  elif i%5==0:\n",
        "    print('Buzz')\n",
        "  elif i%2==0:\n",
        "    print('Fizz')\n",
        "  else:\n",
        "    'nothing'"
      ],
      "metadata": {
        "colab": {
          "base_uri": "https://localhost:8080/"
        },
        "id": "DJyLNBW0lOio",
        "outputId": "062efd32-12b1-4967-8f8c-dd23c072913b"
      },
      "execution_count": null,
      "outputs": [
        {
          "output_type": "stream",
          "name": "stdout",
          "text": [
            "Fizz\n",
            "Fizz\n",
            "Buzz\n",
            "Fizz\n",
            "Fizz\n",
            "FizzBuzz\n"
          ]
        }
      ]
    },
    {
      "cell_type": "markdown",
      "source": [
        "**6.** Write a Python program to find the most frequent item in a list of\n",
        "numbers.\n",
        "\n",
        " Sample input: 2, 3, 4, 2, 5, 2\n",
        " Sample output: 2"
      ],
      "metadata": {
        "id": "HlOlNtQpnhhl"
      }
    },
    {
      "cell_type": "code",
      "source": [
        "y=[]\n",
        "lis=[2,3,4,2,5,2]\n",
        "for i in lis:\n",
        "  x=lis.count(i)\n",
        "  y.append(x)\n",
        "y\n",
        "z=max(y)\n",
        "a=y.index(z)\n",
        "n=lis[a]\n",
        "print('sample output:',n)"
      ],
      "metadata": {
        "colab": {
          "base_uri": "https://localhost:8080/"
        },
        "id": "48uWxh-Hm-r0",
        "outputId": "3848e8c4-5807-4e25-f1e3-4c2ce8305a92"
      },
      "execution_count": null,
      "outputs": [
        {
          "output_type": "stream",
          "name": "stdout",
          "text": [
            "sample output: 2\n"
          ]
        }
      ]
    },
    {
      "cell_type": "markdown",
      "source": [
        "**7.** Write a Python program to find the sum of squares of the numbers in alist.\n",
        "\n",
        "Sample input: 2,1,3,1\n",
        "\n",
        "Sample output: 15"
      ],
      "metadata": {
        "id": "PR_VDyo_TRhE"
      }
    },
    {
      "cell_type": "code",
      "source": [
        "import numpy as np\n",
        "x=np.array([2,1,3,1])\n",
        "y=sum(x**2)\n",
        "print('sample output:',y)"
      ],
      "metadata": {
        "id": "K0xiSaHooDNR",
        "colab": {
          "base_uri": "https://localhost:8080/"
        },
        "outputId": "ba2c962e-01dc-4101-b493-e41b0a3d739b"
      },
      "execution_count": null,
      "outputs": [
        {
          "output_type": "stream",
          "name": "stdout",
          "text": [
            "sample output: 15\n"
          ]
        }
      ]
    },
    {
      "cell_type": "markdown",
      "source": [
        "or"
      ],
      "metadata": {
        "id": "e55bfCYWToTT"
      }
    },
    {
      "cell_type": "code",
      "source": [
        "lis=[2,1,3,1]\n",
        "x=0\n",
        "for i in lis:\n",
        "  x=x+i**2\n",
        "print('sample output:',x)\n"
      ],
      "metadata": {
        "colab": {
          "base_uri": "https://localhost:8080/"
        },
        "id": "m12fniKDTpHi",
        "outputId": "321834db-ec4f-4cf6-a93a-5029d52efcbc"
      },
      "execution_count": null,
      "outputs": [
        {
          "output_type": "stream",
          "name": "stdout",
          "text": [
            "sample output: 15\n"
          ]
        }
      ]
    },
    {
      "cell_type": "markdown",
      "source": [
        "**8.** Write a Python program using for loop that will iterate from 1 to 15. For each iteration, check if the current number is odd or even, and display the message to the screen as odd or even.\n",
        "\n",
        "Sample input: 1….15\n",
        "\n",
        "Sample output: 1-odd 2-even …. 15-odd"
      ],
      "metadata": {
        "id": "LZ7T4euVSvET"
      }
    },
    {
      "cell_type": "code",
      "source": [
        "for i in range (1,16):\n",
        "  if i%2==0:\n",
        "    print(i,'-','even')\n",
        "  else:\n",
        "    print(i,'-','odd')"
      ],
      "metadata": {
        "colab": {
          "base_uri": "https://localhost:8080/"
        },
        "id": "HwagIsrNS-fF",
        "outputId": "3f745627-4a60-422b-99c4-c432bd6d5985"
      },
      "execution_count": null,
      "outputs": [
        {
          "output_type": "stream",
          "name": "stdout",
          "text": [
            "1 - odd\n",
            "2 - even\n",
            "3 - odd\n",
            "4 - even\n",
            "5 - odd\n",
            "6 - even\n",
            "7 - odd\n",
            "8 - even\n",
            "9 - odd\n",
            "10 - even\n",
            "11 - odd\n",
            "12 - even\n",
            "13 - odd\n",
            "14 - even\n",
            "15 - odd\n"
          ]
        }
      ]
    },
    {
      "cell_type": "markdown",
      "source": [
        "**9.** Write a Python program to convert temperatures to and from Celsius\n",
        "Fahrenheit. [Formula: c/5=f-32/9 where c=temperature in Celsius and f=\n",
        "temperature in Fahrenheit.]\n",
        "\n",
        "Sample input: Temperature in Fahrenheit=41\n",
        "\n",
        "Sample output: Temperature in Celsius =5"
      ],
      "metadata": {
        "id": "brudW09uP0Yf"
      }
    },
    {
      "cell_type": "markdown",
      "source": [
        "Fahrenheit to Celsius"
      ],
      "metadata": {
        "id": "yYLojpmsSmMi"
      }
    },
    {
      "cell_type": "code",
      "source": [
        "f=int(input('Temperature in Fahrenheit:'))\n",
        "c=(f-32)*(5/9)\n",
        "print('Temperature in Celsius:',c)"
      ],
      "metadata": {
        "colab": {
          "base_uri": "https://localhost:8080/"
        },
        "id": "yTeF7lt2P2lD",
        "outputId": "a1bc3037-8d27-4729-a136-04dad09418bd"
      },
      "execution_count": null,
      "outputs": [
        {
          "output_type": "stream",
          "name": "stdout",
          "text": [
            "Temperature in Fahrenheit:41\n",
            "Temperature in Celsius: 5.0\n"
          ]
        }
      ]
    },
    {
      "cell_type": "markdown",
      "source": [
        "Celsius to Fahrenheit"
      ],
      "metadata": {
        "id": "RqXrJ_kzSpyq"
      }
    },
    {
      "cell_type": "code",
      "source": [
        "c=int(input('Temperature in Celsius:'))\n",
        "f=(9/5)*c+32\n",
        "print('Temperature in Fahrenheit:',f)"
      ],
      "metadata": {
        "colab": {
          "base_uri": "https://localhost:8080/"
        },
        "id": "RvG_NV8aRFuB",
        "outputId": "508312ff-a60f-4722-97a0-4bd1a72dce83"
      },
      "execution_count": null,
      "outputs": [
        {
          "output_type": "stream",
          "name": "stdout",
          "text": [
            "Temperature in Celsius:5\n",
            "Temperature in Fahrenheit: 41.0\n"
          ]
        }
      ]
    },
    {
      "cell_type": "markdown",
      "source": [
        "**10.** Write a Python function to calculate the factorial of a number (a\n",
        "nonnegative integer). The function accepts the number as an argument.\n",
        "Sample input: 3 Sample output: 6"
      ],
      "metadata": {
        "id": "MrCi1GYMO3TT"
      }
    },
    {
      "cell_type": "code",
      "source": [
        "def fact(n):\n",
        "  fact=1\n",
        "  for i in range(1,n+1):\n",
        "    fact=fact*i\n",
        "  return (print('sample output:',fact))\n",
        "fact(4)"
      ],
      "metadata": {
        "colab": {
          "base_uri": "https://localhost:8080/"
        },
        "id": "KjTU60i7O7Js",
        "outputId": "909c0395-cd64-4ff5-dd34-ce431f695133"
      },
      "execution_count": null,
      "outputs": [
        {
          "output_type": "stream",
          "name": "stdout",
          "text": [
            "sample output: 24\n"
          ]
        }
      ]
    },
    {
      "cell_type": "code",
      "source": [],
      "metadata": {
        "id": "-5IndHztPci6"
      },
      "execution_count": null,
      "outputs": []
    }
  ]
}