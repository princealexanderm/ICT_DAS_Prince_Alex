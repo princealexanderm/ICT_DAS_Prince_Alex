{
  "nbformat": 4,
  "nbformat_minor": 0,
  "metadata": {
    "colab": {
      "provenance": []
    },
    "kernelspec": {
      "name": "python3",
      "display_name": "Python 3"
    },
    "language_info": {
      "name": "python"
    }
  },
  "cells": [
    {
      "cell_type": "markdown",
      "source": [
        "**1.** Write a Python program which accepts the radius of a circle from the user\n",
        "and compute the area.\n",
        "\n",
        "Sample input: Enter the radius: 3\n",
        "\n",
        "Sample output: Area of Circle is 28.59999999999"
      ],
      "metadata": {
        "id": "nO4Z7VkL1oGP"
      }
    },
    {
      "cell_type": "code",
      "source": [
        "import math as m"
      ],
      "metadata": {
        "id": "V-dI9kOl2D28"
      },
      "execution_count": null,
      "outputs": []
    },
    {
      "cell_type": "code",
      "execution_count": null,
      "metadata": {
        "colab": {
          "base_uri": "https://localhost:8080/"
        },
        "id": "I5JxwMpL1fxy",
        "outputId": "b9591e02-cfc1-428b-9196-71d691cfba1b"
      },
      "outputs": [
        {
          "output_type": "stream",
          "name": "stdout",
          "text": [
            "Enter the radius3\n",
            "Area of the circle is: 28.274333882308138\n"
          ]
        }
      ],
      "source": [
        "r=int(input('Enter the radius'))\n",
        "Area=m.pi*r**2\n",
        "print('Area of the circle is:', Area)"
      ]
    },
    {
      "cell_type": "markdown",
      "source": [
        "**2.** Write a Python Program to accept the details of a student like name, roll\n",
        "number and mark and display it.\n",
        "\n",
        "Sample input:\n",
        "\n",
        " Enter the name: Anisha\n",
        "\n",
        "Enter the roll number: 21\n",
        "\n",
        "Enter the mark: 78\n",
        "\n",
        "Sample output: Name: Anisha\n",
        "\n",
        "Roll No: 21\n",
        "\n",
        "Mark: 78"
      ],
      "metadata": {
        "id": "exC1BBOh2nBq"
      }
    },
    {
      "cell_type": "code",
      "source": [
        "name=input('Enter the name:')\n",
        "roll_number=int(input('Enter the roll number:'))\n",
        "mark=int(input('Enter the mark:'))"
      ],
      "metadata": {
        "colab": {
          "base_uri": "https://localhost:8080/"
        },
        "id": "8GGauAFb1-VL",
        "outputId": "730327de-b23f-40a0-a895-976bdff8fdc3"
      },
      "execution_count": null,
      "outputs": [
        {
          "name": "stdout",
          "output_type": "stream",
          "text": [
            "Enter the name:Anisha\n",
            "Enter the roll number:21\n",
            "Enter the mark:78\n"
          ]
        }
      ]
    },
    {
      "cell_type": "code",
      "source": [
        "name=input('Name:')\n",
        "roll_number=int(input('Roll number:'))\n",
        "mark=int(input('Mark:'))"
      ],
      "metadata": {
        "colab": {
          "base_uri": "https://localhost:8080/"
        },
        "id": "r6tuwIVR3Jau",
        "outputId": "b72c34c9-3992-4929-9998-88d7d3269ed2"
      },
      "execution_count": null,
      "outputs": [
        {
          "name": "stdout",
          "output_type": "stream",
          "text": [
            "Name:Anisha\n",
            "Roll number:21\n",
            "Mark:78\n"
          ]
        }
      ]
    },
    {
      "cell_type": "markdown",
      "source": [
        "**3.** Write a Python function called exponent(base,exp) that returns an\n",
        "integer value of base raises to the power of exp. Sample input:\n",
        "\n",
        " Enter the base: 2\n",
        "\n",
        " Enter the exponent: 3\n",
        "\n",
        " Sample output: 8"
      ],
      "metadata": {
        "id": "M7e-ldaN4pyP"
      }
    },
    {
      "cell_type": "code",
      "source": [
        "def exponent(base,exp):\n",
        "  base=int(input('Enter the base:'))\n",
        "  expo=int(input('Enter the exponent:'))\n",
        "  print('Sample output:',base**expo)"
      ],
      "metadata": {
        "id": "R57yjNC43VwD"
      },
      "execution_count": null,
      "outputs": []
    },
    {
      "cell_type": "code",
      "source": [
        "exponent(2,3)"
      ],
      "metadata": {
        "colab": {
          "base_uri": "https://localhost:8080/"
        },
        "id": "b8XT7WBu5YDf",
        "outputId": "2c1673e7-1eec-4679-8fa7-62ae5e2ffac9"
      },
      "execution_count": null,
      "outputs": [
        {
          "output_type": "stream",
          "name": "stdout",
          "text": [
            "Enter the base:2\n",
            "Enter the exponent:3\n",
            "Sample output: 8\n"
          ]
        }
      ]
    },
    {
      "cell_type": "markdown",
      "source": [
        "4. Given a range of first 10 numbers, write a Python program to iterate from start number to the end number and print the sum of the current number\n",
        "and previous number.\n",
        "\n",
        "Sample input: 1….10\n",
        "\n",
        "Sample output: Current Number 1\n",
        "\n",
        "Previous Number 0\n",
        "\n",
        "Sum: 1\n",
        "\n",
        "Current Number 2\n",
        "\n",
        "Previous Number 1\n",
        "\n",
        "Sum: 3\n",
        "\n",
        "Current Number 3\n",
        "\n",
        "Previous Number 2\n",
        "\n",
        "Sum: 5…\n",
        "\n",
        "Current Number 10\n",
        "\n",
        "Previous Number 9\n",
        "\n",
        "Sum: 19"
      ],
      "metadata": {
        "id": "iF95Fn9C5qzp"
      }
    },
    {
      "cell_type": "code",
      "source": [
        "for i in range(1,11):\n",
        "  print('Current Number:',i)\n",
        "  print('Previous Number:',i-1)\n",
        "  print('Sum:',i+i-1)\n"
      ],
      "metadata": {
        "colab": {
          "base_uri": "https://localhost:8080/"
        },
        "id": "9H84QcaN5hq3",
        "outputId": "30da9868-9827-4c27-b2be-cdb729dd9d78"
      },
      "execution_count": null,
      "outputs": [
        {
          "output_type": "stream",
          "name": "stdout",
          "text": [
            "Current Number: 1\n",
            "Previous Number: 0\n",
            "Sum: 1\n",
            "Current Number: 2\n",
            "Previous Number: 1\n",
            "Sum: 3\n",
            "Current Number: 3\n",
            "Previous Number: 2\n",
            "Sum: 5\n",
            "Current Number: 4\n",
            "Previous Number: 3\n",
            "Sum: 7\n",
            "Current Number: 5\n",
            "Previous Number: 4\n",
            "Sum: 9\n",
            "Current Number: 6\n",
            "Previous Number: 5\n",
            "Sum: 11\n",
            "Current Number: 7\n",
            "Previous Number: 6\n",
            "Sum: 13\n",
            "Current Number: 8\n",
            "Previous Number: 7\n",
            "Sum: 15\n",
            "Current Number: 9\n",
            "Previous Number: 8\n",
            "Sum: 17\n",
            "Current Number: 10\n",
            "Previous Number: 9\n",
            "Sum: 19\n"
          ]
        }
      ]
    },
    {
      "cell_type": "markdown",
      "source": [
        "**5. **Write a Python program to print only those numbers which are divisible of 5.\n",
        "\n",
        "Sample input: 10, 20,33,46,55\n",
        "\n",
        "Sample output: 10, 20, 55"
      ],
      "metadata": {
        "id": "BIIUEBme7uhw"
      }
    },
    {
      "cell_type": "code",
      "source": [
        "for n in (10,20,33,46,55):\n",
        "  print('sample input:',n)\n",
        "  if n%5==0:\n",
        "    print('sample output:',n)"
      ],
      "metadata": {
        "colab": {
          "base_uri": "https://localhost:8080/"
        },
        "id": "L_UGSIO-63JW",
        "outputId": "6f2a65e8-060d-47cd-8bd0-8750770430bb"
      },
      "execution_count": null,
      "outputs": [
        {
          "output_type": "stream",
          "name": "stdout",
          "text": [
            "sample input: 10\n",
            "sample output: 10\n",
            "sample input: 20\n",
            "sample output: 20\n",
            "sample input: 33\n",
            "sample input: 46\n",
            "sample input: 55\n",
            "sample output: 55\n"
          ]
        }
      ]
    },
    {
      "cell_type": "markdown",
      "source": [
        "**6.** Write a Python program to check whether a number is prime or not.\n",
        "\n",
        "Sample input: Enter the number: 3\n",
        "\n",
        "Sample output: 3 is a prime number."
      ],
      "metadata": {
        "id": "oCeHWjFNbQ1O"
      }
    },
    {
      "cell_type": "code",
      "source": [
        "n=int(input('Sample input: Enter the number: '))\n",
        "if n>1:\n",
        "  for i in range(2,n):\n",
        "    if n%i==0:\n",
        "      ('not a prime number')\n",
        "      break\n",
        "  else:\n",
        "    print('Sample output:',n,'is a prime number')\n",
        "else:\n",
        "  ('is not a prime number')"
      ],
      "metadata": {
        "colab": {
          "base_uri": "https://localhost:8080/"
        },
        "id": "h9343FwKdkk8",
        "outputId": "bb4dc768-2ef8-419b-a8ab-7ab06b753a64"
      },
      "execution_count": null,
      "outputs": [
        {
          "output_type": "stream",
          "name": "stdout",
          "text": [
            "Sample input: Enter the number: 3\n",
            "Sample output: 3 is a prime number\n"
          ]
        }
      ]
    },
    {
      "cell_type": "markdown",
      "source": [
        "**7.** Write a Python program to reverse a list using for loop.\n",
        "\n",
        "Sample input: 10,40,30,70\n",
        "\n",
        "Sample output: 70,30,40,10"
      ],
      "metadata": {
        "id": "yY_FkCiH-nw1"
      }
    },
    {
      "cell_type": "code",
      "source": [
        "x=[]\n",
        "y=[10,40,30,70]\n",
        "for i in range(len(y)):\n",
        "  a=y.pop()\n",
        "  x.append(a)\n",
        "print(x)"
      ],
      "metadata": {
        "colab": {
          "base_uri": "https://localhost:8080/"
        },
        "id": "gbLgTO_p8Heh",
        "outputId": "ec72214d-5492-405a-ef9a-cb33a2828aa6"
      },
      "execution_count": null,
      "outputs": [
        {
          "output_type": "stream",
          "name": "stdout",
          "text": [
            "[70, 30, 40, 10]\n"
          ]
        }
      ]
    },
    {
      "cell_type": "markdown",
      "source": [
        "**8.** Write a Python program to print the following pattern.\n",
        "\n",
        "#*\n",
        "#**\n",
        "#***\n",
        "#****"
      ],
      "metadata": {
        "id": "ZpUKuh5rAmLU"
      }
    },
    {
      "cell_type": "code",
      "source": [
        "for i in range(5):\n",
        "  print('*'*i)"
      ],
      "metadata": {
        "colab": {
          "base_uri": "https://localhost:8080/"
        },
        "id": "CENwGkSV_exG",
        "outputId": "1a0ca638-5bb9-4126-90ff-0247824276ee"
      },
      "execution_count": null,
      "outputs": [
        {
          "output_type": "stream",
          "name": "stdout",
          "text": [
            "\n",
            "*\n",
            "**\n",
            "***\n",
            "****\n"
          ]
        }
      ]
    },
    {
      "cell_type": "markdown",
      "source": [
        "**9.** Write a Python program to find the maximum of three numbers\n",
        "\n",
        "Sample input: 34,12,7\n",
        "\n",
        "Sample output: 34"
      ],
      "metadata": {
        "id": "SOXpjZxnBfTu"
      }
    },
    {
      "cell_type": "code",
      "source": [
        "a,b,c=eval(input('Sample input'))\n",
        "if a>b and a>c:\n",
        "  print('sample output',a)\n",
        "elif b>a and b>c:\n",
        "  print('sample output',b)\n",
        "else:\n",
        "  print('sample output',c)"
      ],
      "metadata": {
        "colab": {
          "base_uri": "https://localhost:8080/"
        },
        "id": "id7bwTBCBZM6",
        "outputId": "79d64593-c7fb-4049-f146-d4e023268328"
      },
      "execution_count": null,
      "outputs": [
        {
          "output_type": "stream",
          "name": "stdout",
          "text": [
            "Sample input34,12,7\n",
            "sample output 34\n"
          ]
        }
      ]
    },
    {
      "cell_type": "markdown",
      "source": [
        "**10.** Write a Python program to construct the following pattern, using a\n",
        "nested for loop.\n",
        "#*\n",
        "#**\n",
        "#***\n",
        "#****\n",
        "#*****\n",
        "#****\n",
        "#***\n",
        "#**\n",
        "#*"
      ],
      "metadata": {
        "id": "pARK5NBnCGlO"
      }
    },
    {
      "cell_type": "code",
      "source": [
        "for i in range(7):\n",
        "  if i<=5:\n",
        "    print('*'*i)\n",
        "  else:\n",
        "    for j in range(5):\n",
        "      print('*'*(4-j))"
      ],
      "metadata": {
        "colab": {
          "base_uri": "https://localhost:8080/"
        },
        "id": "9-qcgcVECYbM",
        "outputId": "6ec8674b-6787-4293-a3bc-d00a15436053"
      },
      "execution_count": null,
      "outputs": [
        {
          "output_type": "stream",
          "name": "stdout",
          "text": [
            "\n",
            "*\n",
            "**\n",
            "***\n",
            "****\n",
            "*****\n",
            "****\n",
            "***\n",
            "**\n",
            "*\n",
            "\n"
          ]
        }
      ]
    },
    {
      "cell_type": "code",
      "source": [],
      "metadata": {
        "id": "5TV7YEnpClYA"
      },
      "execution_count": null,
      "outputs": []
    }
  ]
}